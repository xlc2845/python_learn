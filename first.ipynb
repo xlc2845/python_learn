{
 "cells": [
  {
   "cell_type": "code",
   "execution_count": 1,
   "metadata": {},
   "outputs": [
    {
     "name": "stdout",
     "output_type": "stream",
     "text": [
      "你好\n"
     ]
    }
   ],
   "source": [
    "print('你好')"
   ]
  },
  {
   "cell_type": "code",
   "execution_count": 6,
   "metadata": {},
   "outputs": [
    {
     "data": {
      "text/plain": [
       "'作为由阿里云开发的大型语言模型，我能够执行多种任务和提供各种信息。我可以：\\n\\n1. **回答问题**：涵盖广泛的知识领域。\\n2. **撰写文章、故事或剧本**：根据提供的主题进行创作。\\n3. **编写代码片段**：包括但不限于Python、JavaScript等编程语言。\\n4. **翻译文本**：将一种语言翻译成另一种语言。\\n5. **提供建议和解决方案**：帮助解决日常生活中的问题，或是提供工作相关的建议。\\n\\n如果你有任何具体的问题或任务需要帮忙，请告诉我！'"
      ]
     },
     "execution_count": 6,
     "metadata": {},
     "output_type": "execute_result"
    }
   ],
   "source": [
    "from langchain_core.prompts import ChatPromptTemplate\n",
    "from langchain_ollama.llms import OllamaLLM\n",
    "\n",
    "template = \"\"\"Question: {question}\n",
    "\n",
    "Answer: Let's think step by step.\"\"\"\n",
    "\n",
    "prompt = ChatPromptTemplate.from_template(template)\n",
    "\n",
    "model = OllamaLLM(model=\"qwen2.5:14b\")\n",
    "\n",
    "chain = prompt | model\n",
    "\n",
    "chain.invoke({\"question\": \"你会做什么？\"})"
   ]
  },
  {
   "cell_type": "code",
   "execution_count": 12,
   "metadata": {},
   "outputs": [
    {
     "name": "stdout",
     "output_type": "stream",
     "text": [
      "\n",
      "\n",
      "\u001b[1m> Entering new AgentExecutor chain...\u001b[0m\n",
      "\u001b[32;1m\u001b[1;3m我需要计算25的3.5次方。\n",
      "Action: Calculator\n",
      "Action Input: 25 ** 3.5\u001b[0m\n",
      "Observation: \u001b[36;1m\u001b[1;3mAnswer: 78125.0\u001b[0m\n",
      "Thought:\u001b[32;1m\u001b[1;3m我已经知道了最后的答案。\n",
      "Final Answer: 25的3.5次方等于78125.0。\u001b[0m\n",
      "\n",
      "\u001b[1m> Finished chain.\u001b[0m\n"
     ]
    },
    {
     "data": {
      "text/plain": [
       "{'input': '25的3.5次方等于多少', 'output': '25的3.5次方等于78125.0。'}"
      ]
     },
     "execution_count": 12,
     "metadata": {},
     "output_type": "execute_result"
    }
   ],
   "source": [
    "from langchain.agents import initialize_agent\n",
    "from langchain.agents import load_tools\n",
    "from langchain.agents import AgentType\n",
    "\n",
    "tools = load_tools(['llm-math'], llm = model)\n",
    "agent = initialize_agent(tools, llm=model, agent=AgentType.ZERO_SHOT_REACT_DESCRIPTION, verbose = True)\n",
    "\n",
    "agent.invoke('25的3.5次方等于多少')\n"
   ]
  },
  {
   "cell_type": "code",
   "execution_count": 11,
   "metadata": {},
   "outputs": [
    {
     "name": "stderr",
     "output_type": "stream",
     "text": [
      "/var/folders/2z/4tv01scj4jx0lhz89z737l1c0000gn/T/ipykernel_11448/3178123011.py:1: LangChainDeprecationWarning: The method `BaseLLM.predict` was deprecated in langchain-core 0.1.7 and will be removed in 1.0. Use :meth:`~invoke` instead.\n",
      "  model.predict('25的3.5次方等于多少')\n"
     ]
    },
    {
     "data": {
      "text/plain": [
       "'计算 \\\\(25^{3.5}\\\\) 的值可以通过将指数分解为整数部分和小数部分来简化理解。但是，直接计算会更准确：\\n\\n\\\\[ 25^{3.5} = (5^2)^{3.5} = 5^{7} \\\\times 5^{0.5} = 5^7 \\\\times \\\\sqrt{5} \\\\]\\n\\n或者更简单地使用计算器得到具体数值：\\n\\n\\\\[ 25^{3.5} \\\\approx 19531.25 \\\\times \\\\sqrt{5} \\\\approx 42627.93 \\\\]\\n\\n精确计算结果为约 42627.93。请注意，具体的数值可能依赖于使用的计算器或软件的精度设置。'"
      ]
     },
     "execution_count": 11,
     "metadata": {},
     "output_type": "execute_result"
    }
   ],
   "source": [
    "model.predict('25的3.5次方等于多少')"
   ]
  },
  {
   "cell_type": "code",
   "execution_count": 15,
   "metadata": {},
   "outputs": [
    {
     "data": {
      "text/plain": [
       "'今天天气很好。'"
      ]
     },
     "execution_count": 15,
     "metadata": {},
     "output_type": "execute_result"
    }
   ],
   "source": [
    "from typing import Any, List, Mapping, Optional\n",
    "from langchain.llms.base import LLM\n",
    "from langchain.callbacks.manager import CallbackManagerForLLMRun\n",
    "\n",
    "class 冷淡AI(LLM):\n",
    "    @property\n",
    "    def _llm_type(self) -> str:\n",
    "        return '冷淡AI'\n",
    "    \n",
    "    def _call(\n",
    "            self,\n",
    "            prompt: str,\n",
    "            stop: Optional[List[str]] = None,\n",
    "            run_manager: Optional[CallbackManagerForLLMRun] = None,\n",
    "    ) -> str:\n",
    "        if stop is not None:\n",
    "            raise ValueError('error')\n",
    "        pd = prompt.find('吗')\n",
    "        if pd >= 0:\n",
    "            return prompt[0:pd] + '。'\n",
    "        return '哦。'\n",
    "    \n",
    "\n",
    "llm = 冷淡AI()\n",
    "\n",
    "llm.invoke('今天天气很好吗？')"
   ]
  },
  {
   "cell_type": "code",
   "execution_count": 16,
   "metadata": {},
   "outputs": [
    {
     "data": {
      "text/plain": [
       "'你那边天气好。'"
      ]
     },
     "execution_count": 16,
     "metadata": {},
     "output_type": "execute_result"
    }
   ],
   "source": [
    "llm.invoke('你那边天气好吗？')"
   ]
  }
 ],
 "metadata": {
  "kernelspec": {
   "display_name": ".venv",
   "language": "python",
   "name": "python3"
  },
  "language_info": {
   "codemirror_mode": {
    "name": "ipython",
    "version": 3
   },
   "file_extension": ".py",
   "mimetype": "text/x-python",
   "name": "python",
   "nbconvert_exporter": "python",
   "pygments_lexer": "ipython3",
   "version": "3.13.1"
  }
 },
 "nbformat": 4,
 "nbformat_minor": 2
}
